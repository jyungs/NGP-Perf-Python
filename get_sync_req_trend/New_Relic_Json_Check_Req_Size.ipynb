{
 "cells": [
  {
   "cell_type": "code",
   "execution_count": 6,
   "metadata": {
    "scrolled": false
   },
   "outputs": [
    {
     "name": "stdout",
     "output_type": "stream",
     "text": [
      "297,291,279,269,266,265,264,263,263,263,262,259,258,257,257,256,255,255,255,253,251,246,245,244,243,242,241,224,178,173,171,171,171,171,170,170,170,169,168,168,168,168,168,167,167,167,166,166,166,166,164,164,164,164,163,162,162,161,157,157,157,155,155,155,154,153,153,153,152,151,151,151,151,150,150,149,149,149,148,148,148,148,147,147,146,145,145,145,145,145,145,144,144,143,140,140,\n"
     ]
    }
   ],
   "source": [
    "import certifi\n",
    "import urllib3\n",
    "import json\n",
    "\n",
    "def main():\n",
    "    http = urllib3.PoolManager(cert_reqs='CERT_REQUIRED', ca_certs=certifi.where())\n",
    "    \n",
    "# 234,234,231,227,226,226,226,225,224,222,221,220,220,219,219,218,217,217,216,216,214,214,214,213,212,212,211,210,206,206,202,200,200,199,199,199,197,196,192,182,179,176,176,176,172,171,170,169,\n",
    "#\n",
    "#    webUrl = http.request('Get',\n",
    "#        \"https://insights-api.newrelic.com/v1/accounts/78783/query?nrql=SELECT%20count(*)%20FROM%20SyntheticRequest%20WHERE%20monitorName%20=%20'JTP-Gallery-Beach'%20FACET%20checkId%20SINCE%2024%20HOURS%20AGO%20limit%2050\",\n",
    "#        headers={'X-Query-Key': 'HFdC9JQE7P3Bkwk9HMl0kgVTH2j5yucx'}\n",
    "\n",
    "    webUrl = http.request('Get',\n",
    "        \"https://insights-api.newrelic.com/v1/accounts/78783/query?nrql=SELECT%20count(*)%20FROM%20SyntheticRequest%20WHERE%20monitorName%20=%20'JTP-Gallery-Spain-M'%20FACET%20checkId%20SINCE%2048%20HOURS%20AGO%20limit%20200\",\n",
    "        headers={'X-Query-Key': 'HFdC9JQE7P3Bkwk9HMl0kgVTH2j5yucx'}\n",
    "                         )\n",
    "    \n",
    "    theJson = json.loads(webUrl.data.decode('utf-8'))\n",
    "    #print (theJson)\n",
    "    #print (\"\\nKeys\\n\")\n",
    "    #print (theJson.keys())\n",
    "    #print (\"\\nFacets\\n\")\n",
    "    #print (theJson[\"facets\"])\n",
    "    #print (\"\\nTotal Results\\n\")\n",
    "    #print (theJson[\"totalResult\"])\n",
    "    #print (\"\\nUnknown Group\\n\")\n",
    "    #print (theJson[\"unknownGroup\"])\n",
    "    #print (\"\\nPerf Stats\\n\")\n",
    "    #print (theJson[\"performanceStats\"])\n",
    "    #print (\"\\nMetadata\\n\")\n",
    "    #print (theJson[\"metadata\"])\n",
    "    #print (\"\\n\\n\")\n",
    "    \n",
    "    facetsList = theJson[\"facets\"]\n",
    "    resultsList = []\n",
    "     \n",
    "    for facet in facetsList:\n",
    "        \n",
    "        prettyName = \"None\"\n",
    "        prettyCount = 0\n",
    "        \n",
    "        for k, v in facet.items():\n",
    "            if k == 'results':\n",
    "                for newV in v:\n",
    "                    for k1,v1 in newV.items():\n",
    "                        if k1 == 'count':\n",
    "                            prettyCount = v1\n",
    "                            resultsList.append(v1)\n",
    "            \n",
    "                    \n",
    "        #if prettyCount > 0:\n",
    "        #    print(\"Requests: \" + str(prettyCount))\n",
    "        #    prettyCount = 0               \n",
    "\n",
    "\n",
    "    # All Done\n",
    "    \n",
    "    resultsString = \"\"\n",
    "    for result in resultsList:\n",
    "        resultsString += (str(result) + \",\")\n",
    "    print(resultsString)\n",
    "            \n",
    "        \n",
    "# JTP-Gallery-Spain-M        \n",
    "\n",
    "if __name__ == \"__main__\":\n",
    "    main()"
   ]
  },
  {
   "cell_type": "code",
   "execution_count": null,
   "metadata": {
    "collapsed": true
   },
   "outputs": [],
   "source": []
  },
  {
   "cell_type": "code",
   "execution_count": null,
   "metadata": {
    "collapsed": true
   },
   "outputs": [],
   "source": []
  }
 ],
 "metadata": {
  "kernelspec": {
   "display_name": "Python 3",
   "language": "python",
   "name": "python3"
  },
  "language_info": {
   "codemirror_mode": {
    "name": "ipython",
    "version": 3
   },
   "file_extension": ".py",
   "mimetype": "text/x-python",
   "name": "python",
   "nbconvert_exporter": "python",
   "pygments_lexer": "ipython3",
   "version": "3.6.3"
  }
 },
 "nbformat": 4,
 "nbformat_minor": 2
}
