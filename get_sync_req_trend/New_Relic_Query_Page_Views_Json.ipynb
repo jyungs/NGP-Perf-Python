{
 "cells": [
  {
   "cell_type": "code",
   "execution_count": 114,
   "metadata": {},
   "outputs": [
    {
     "name": "stdout",
     "output_type": "stream",
     "text": [
      "Final https://www.nationalgeographic.com/disable-adblock/ 205\n",
      "Final https://www.nationalgeographic.com/backend-proxy/geobee/quiz/today/ 102\n",
      "Final http://ocean.nationalgeographic.com/geobee/apps/ 50\n",
      "Final https://www.nationalgeographic.com/deextinction/ 43\n",
      "Final http://ocean.nationalgeographic.com/geobee/sample-questions/ 41\n",
      "Final http://ocean.nationalgeographic.com/ocean/photos/ocean-rays/ 40\n",
      "Final http://ocean.nationalgeographic.com/ocean/photos/discovering-titanic/ 38\n",
      "Final http://ocean.nationalgeographic.com/ocean/photos/toxic-sea-creatures/ 38\n",
      "Final http://ocean.nationalgeographic.com/geobee/study-corner/ 37\n",
      "Final https://www.nationalgeographic.com/explorers/grants-programs/young-explorers 35\n"
     ]
    }
   ],
   "source": [
    "import certifi\n",
    "import urllib3\n",
    "import json\n",
    "#import StringIO\n",
    "#from StringIO import StringIO\n",
    "\n",
    "# https://insights-api.newrelic.com/v1/accounts/78783/query?nrql=SELECT%20count(pageUrl)%20FROM%20PageView%20FACET%20pageUrl%20where%20appName%20%3D%20%27Web%20Publishing%20Framework%20(WPF)%27%20since%201%20day%20ago%20limit%2010\n",
    "\n",
    "# https://insights-api.newrelic.com/v1/accounts/78783/query?\n",
    "# nrql=SELECT%20count(pageUrl)%20FROM%20PageView%20FACET%20pageUrl%20where%20appName%20%3D%20%27Web%20Publishing%20Framework%20\n",
    "# (WPF)%27%20since%201%20day%20ago%20limit%2010\n",
    "\n",
    "def main():\n",
    "    http = urllib3.PoolManager(cert_reqs='CERT_REQUIRED', ca_certs=certifi.where())\n",
    "    #webUrl = http.request('Get','https://www.nationalgeographic.com/seo.jpg')\n",
    "    \n",
    "    webUrl = http.request('Get',\n",
    "        'https://insights-api.newrelic.com/v1/accounts/78783/query?nrql=SELECT%20count(pageUrl)%20FROM%20PageView%20FACET%20pageUrl%20where%20appName%20%3D%20%27Web%20Publishing%20Framework%20(WPF)%27%20since%201%20day%20ago%20limit%2010',\n",
    "        headers={'X-Query-Key': 'HFdC9JQE7P3Bkwk9HMl0kgVTH2j5yucx'}\n",
    "                         )\n",
    "    \n",
    "    theJson = json.loads(webUrl.data.decode('utf-8'))\n",
    "    #print (theJson)\n",
    "    #print (\"\\nKeys\\n\")\n",
    "    #print (theJson.keys())\n",
    "    #print (\"\\nFacets\\n\")\n",
    "    #print (theJson[\"facets\"])\n",
    "    #print (\"\\nTotal Results\\n\")\n",
    "    #print (theJson[\"totalResult\"])\n",
    "    #print (\"\\nUnknown Group\\n\")\n",
    "    #print (theJson[\"unknownGroup\"])\n",
    "    #print (\"\\nPerf Stats\\n\")\n",
    "    #print (theJson[\"performanceStats\"])\n",
    "    #print (\"\\nMetadata\\n\")\n",
    "    #print (theJson[\"metadata\"])\n",
    "    #print (\"\\n\\n\")\n",
    "    \n",
    "    facetsList = theJson[\"facets\"]\n",
    "     \n",
    "    #print (type(facetsList))\n",
    "    \n",
    "    for listItem in facetsList:\n",
    "        #print (type(listItem))\n",
    "        #print (listItem)\n",
    "        \n",
    "        prettyName = \"None\"\n",
    "        prettyCount = 0\n",
    "        \n",
    "        for k, v in listItem.items():\n",
    "            if k == 'name':\n",
    "                prettyName = v\n",
    "                continue\n",
    "            \n",
    "            if k == 'results':\n",
    "                for newV in v:\n",
    "                    for k1,v1 in newV.items():\n",
    "                        if k1 == 'count':\n",
    "                            prettyCount = v1\n",
    "                            continue\n",
    "                    continue\n",
    "                    \n",
    "        if prettyCount > 0:\n",
    "            print(\"Final \" + prettyName + \" \" + str(prettyCount))\n",
    "            prettyName = \"None\"\n",
    "            prettyCount = 0               \n",
    "\n",
    "            \n",
    "\n",
    "if __name__ == \"__main__\":\n",
    "    main()"
   ]
  },
  {
   "cell_type": "code",
   "execution_count": null,
   "metadata": {
    "collapsed": true
   },
   "outputs": [],
   "source": []
  }
 ],
 "metadata": {
  "kernelspec": {
   "display_name": "Python 3",
   "language": "python",
   "name": "python3"
  },
  "language_info": {
   "codemirror_mode": {
    "name": "ipython",
    "version": 3
   },
   "file_extension": ".py",
   "mimetype": "text/x-python",
   "name": "python",
   "nbconvert_exporter": "python",
   "pygments_lexer": "ipython3",
   "version": "3.6.3"
  }
 },
 "nbformat": 4,
 "nbformat_minor": 2
}
